{
 "cells": [
  {
   "cell_type": "raw",
   "metadata": {},
   "source": [
    "<script>\n",
    "  function code_toggle() {\n",
    "    if (code_shown){\n",
    "      $('div.input').hide('500');\n",
    "      $('#toggleButton').val('Show Code')\n",
    "    } else {\n",
    "      $('div.input').show('500');\n",
    "      $('#toggleButton').val('Hide Code')\n",
    "    }\n",
    "    code_shown = !code_shown\n",
    "  }\n",
    "\n",
    "  $( document ).ready(function(){\n",
    "    code_shown=false;\n",
    "    $('div.input').hide()\n",
    "  });\n",
    "</script>\n",
    "<form action=\"javascript:code_toggle()\"><input type=\"submit\" id=\"toggleButton\" value=\"Show Code\"></form>"
   ]
  },
  {
   "cell_type": "code",
   "execution_count": null,
   "metadata": {},
   "outputs": [],
   "source": [
    "import os\n",
    "import yaml\n",
    "from IPython.display import display, HTML, Image\n",
    "import numpy as np\n",
    "import scipy as sp\n",
    "import pandas as pd\n",
    "import matplotlib.pyplot as plt\n",
    "%matplotlib inline\n",
    "import seaborn as sns\n",
    "sns.set_context(\"poster\")\n",
    "sns.set_style(\"ticks\")\n",
    "\n",
    "with open(\"info.yml\") as f: info = yaml.safe_load(f)\n",
    "print(info[\"author\"])\n",
    "print(info[\"affiliation\"])\n",
    "print(info[\"contact\"])\n",
    "print(info[\"date\"])"
   ]
  },
  {
   "cell_type": "markdown",
   "metadata": {},
   "source": [
    "# <center>Report Title</center>"
   ]
  },
  {
   "cell_type": "markdown",
   "metadata": {},
   "source": [
    "## Section 1"
   ]
  },
  {
   "cell_type": "markdown",
   "metadata": {},
   "source": [
    "Hyperlinks are parsed automatically: https://www.google.com  \n",
    "\n",
    "Items might be listed:\n",
    " * 1\n",
    " * 2\n",
    "  * 2a\n",
    "  * 2b\n",
    "  \n",
    "Math mode of $\\LaTeX$ is parsed properly: $\\alpha = \\frac{\\beta}{\\gamma \\times \\delta^\\epsilon}$  \n",
    "\n",
    "Text might be stressed in *italic* or **bold**."
   ]
  },
  {
   "cell_type": "code",
   "execution_count": null,
   "metadata": {},
   "outputs": [],
   "source": [
    "# how to print a dataframe:\n",
    "\n",
    "titanic = sns.load_dataset(\"titanic\")\n",
    "display(titanic.head())"
   ]
  },
  {
   "cell_type": "code",
   "execution_count": null,
   "metadata": {},
   "outputs": [],
   "source": [
    "# how to include an image:\n",
    "display(Image(\"jupyter-logo.jpeg\"))"
   ]
  },
  {
   "cell_type": "code",
   "execution_count": null,
   "metadata": {},
   "outputs": [],
   "source": [
    "# how to show and save a plot:\n",
    "\n",
    "fig = plt.figure(figsize=(12,8))\n",
    "ax = plt.gca()\n",
    "g = sns.barplot(x=\"class\", y=\"survived\", hue=\"sex\", data=titanic, palette=\"muted\", ax=ax)\n",
    "sns.despine()\n",
    "ax.set_xlabel(\"Passenger class\")\n",
    "ax.set_ylabel(\"Survival probability\")\n",
    "plt.title(\"Titanic\")\n",
    "fname = os.path.join(\"output\", \"titanic.png\")\n",
    "plt.savefig(fname=fname, dpi=300)\n",
    "plt.show()\n",
    "plt.close()"
   ]
  },
  {
   "cell_type": "markdown",
   "metadata": {},
   "source": [
    "---"
   ]
  }
 ],
 "metadata": {
  "kernelspec": {
   "display_name": "Python 3",
   "language": "python",
   "name": "python3"
  },
  "language_info": {
   "codemirror_mode": {
    "name": "ipython",
    "version": 3
   },
   "file_extension": ".py",
   "mimetype": "text/x-python",
   "name": "python",
   "nbconvert_exporter": "python",
   "pygments_lexer": "ipython3",
   "version": "3.7.4"
  }
 },
 "nbformat": 4,
 "nbformat_minor": 4
}
